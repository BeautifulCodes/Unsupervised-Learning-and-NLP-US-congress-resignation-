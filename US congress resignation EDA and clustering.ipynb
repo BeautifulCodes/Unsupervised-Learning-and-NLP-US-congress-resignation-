{
  "nbformat": 4,
  "nbformat_minor": 0,
  "metadata": {
    "colab": {
      "name": "Applied Task.ipynb",
      "provenance": [],
      "collapsed_sections": []
    },
    "kernelspec": {
      "name": "python3",
      "display_name": "Python 3"
    }
  },
  "cells": [
    {
      "cell_type": "markdown",
      "metadata": {
        "id": "Mil2DdEmXop9"
      },
      "source": [
        "# **Table of Contents**\n",
        "\n",
        "- [Get the data]()\n",
        "- [Import the libraries](#01)\n",
        "- [Utility Class](#02)\n",
        "- [Utility Methods](#03)\n",
        "- [Read the data files](#04)\n",
        "- [Information about the data - Quick Stats and info](#05)\n",
        "- [Preprocessing the data](#06)\n",
        "- [Exploratory data analysis(EDA)](#07)\n",
        "- [Feature Engineering)](#08)\n",
        "- [Natural language Processing - Extract features from text)](#09)\n",
        "- [Clusteting - KMeans](#07)\n",
        "- [PostProcessing](#11)\n",
        "- [Final Adjustments](#12)\n",
        "- [Save the output](#13)\n",
        "\n"
      ]
    },
    {
      "cell_type": "markdown",
      "metadata": {
        "id": "TetVkov8Fl_-"
      },
      "source": [
        "## Get the data"
      ]
    },
    {
      "cell_type": "markdown",
      "metadata": {
        "id": "pjZhj6qhFqn1"
      },
      "source": [
        "Google collab deletes the data everytime session ends. We will download and save it in a directory which we later can use "
      ]
    },
    {
      "cell_type": "code",
      "metadata": {
        "colab": {
          "base_uri": "https://localhost:8080/"
        },
        "id": "PxaZ4-KODyp5",
        "outputId": "550ca43b-a7c5-4186-97e6-66762a4ef9f4"
      },
      "source": [
        "!curl https://raw.githubusercontent.com/fivethirtyeight/data/master/congress-resignations/congressional_resignations.csv --create-dirs -o ./data/resignation_data.csv"
      ],
      "execution_count": null,
      "outputs": [
        {
          "output_type": "stream",
          "text": [
            "  % Total    % Received % Xferd  Average Speed   Time    Time     Time  Current\n",
            "                                 Dload  Upload   Total   Spent    Left  Speed\n",
            "\r  0     0    0     0    0     0      0      0 --:--:-- --:--:-- --:--:--     0\r100 57087  100 57087    0     0   357k      0 --:--:-- --:--:-- --:--:--  357k\n"
          ],
          "name": "stdout"
        }
      ]
    },
    {
      "cell_type": "markdown",
      "metadata": {
        "id": "JCdtIQDXzvz9"
      },
      "source": [
        "## Import the libraries"
      ]
    },
    {
      "cell_type": "code",
      "metadata": {
        "id": "euPEQYDjAFrB",
        "colab": {
          "base_uri": "https://localhost:8080/"
        },
        "outputId": "6c88b448-996d-4405-c71a-a6a725523131"
      },
      "source": [
        "#Sytem level imports\n",
        "import os,sys\n",
        "import string\n",
        "import warnings\n",
        "warnings.filterwarnings(\"ignore\")\n",
        "\n",
        "\n",
        "%matplotlib inline\n",
        "\n",
        "#Data manipulation\n",
        "import pandas as pd\n",
        "import numpy as np\n",
        "from itertools import cycle\n",
        "\n",
        "#Plotting\n",
        "import seaborn as sns\n",
        "import matplotlib.pyplot as plt\n",
        "from matplotlib.dates import date2num\n",
        "\n",
        "#Algorithms\n",
        "from sklearn.cluster import KMeans\n",
        "from sklearn.feature_extraction.text import CountVectorizer\n",
        "\n",
        "#NLP imports\n",
        "import nltk\n",
        "nltk.download('punkt')\n",
        "from nltk.tokenize import word_tokenize\n",
        "from nltk.corpus import stopwords\n",
        "from nltk.stem.wordnet import WordNetLemmatizer\n",
        "from nltk.stem.porter import PorterStemmer\n",
        "from sklearn.feature_extraction.text import TfidfVectorizer\n",
        "from nltk.corpus import wordnet as wn"
      ],
      "execution_count": null,
      "outputs": [
        {
          "output_type": "stream",
          "text": [
            "[nltk_data] Downloading package punkt to /root/nltk_data...\n",
            "[nltk_data]   Unzipping tokenizers/punkt.zip.\n"
          ],
          "name": "stdout"
        }
      ]
    },
    {
      "cell_type": "code",
      "metadata": {
        "colab": {
          "base_uri": "https://localhost:8080/"
        },
        "id": "YGMFg8CjAbfr",
        "outputId": "820dc7ef-f76f-4397-e025-cc462a25e3f2"
      },
      "source": [
        "import matplotlib\n",
        "print('matplotlib: {}'.format(matplotlib.__version__))"
      ],
      "execution_count": null,
      "outputs": [
        {
          "output_type": "stream",
          "text": [
            "matplotlib: 3.2.2\n"
          ],
          "name": "stdout"
        }
      ]
    },
    {
      "cell_type": "markdown",
      "metadata": {
        "id": "CsqfF4iCBQBH"
      },
      "source": [
        "## Utility Classes "
      ]
    },
    {
      "cell_type": "code",
      "metadata": {
        "id": "TNt1-L6qBMUZ"
      },
      "source": [
        "class PreProcessing:\n",
        "    def __init__(self):\n",
        "        pass\n",
        "    \n",
        "    def fill_nulls(self):\n",
        "        \"\"\"\n",
        "        No nulls in the dataset, we can ignore this for now.\n",
        "        \"\"\"\n",
        "        pass\n",
        "    \n",
        "\n",
        "    def change_datatypes(self):\n",
        "        \"\"\"\n",
        "        Change the datatype of the columns which are necessary\n",
        "        \n",
        "        Resignation Date : Object -> Date time\n",
        "        \"\"\"\n",
        "        global df\n",
        "        df[\"Resignation Date\"] = pd.to_datetime(df[\"Resignation Date\"])"
      ],
      "execution_count": null,
      "outputs": []
    },
    {
      "cell_type": "code",
      "metadata": {
        "id": "CKkU2t3UaZfd"
      },
      "source": [
        "class PostProcesing:\n",
        "  \n",
        "    def __init__(self):\n",
        "      pass\n",
        "\n",
        "    def define_strength(self):\n",
        "      global df\n",
        "      strength_df = df.groupby(\"Category of Resignation\")[feature_name].mean()\n",
        "      nlargest = 10\n",
        "      order = np.argsort(-strength_df.values, axis=1)[:, :nlargest]\n",
        "      result = pd.DataFrame(strength_df.columns[order], \n",
        "                      columns=['top{}'.format(i) for i in range(1, nlargest+1)],\n",
        "                      index=strength_df.index)\n",
        "      print(result)\n",
        "\n",
        "    def generate_final_dataframe(self,labels):\n",
        "      global df,feature_name\n",
        "\n",
        "      df[\"Category of Resignation\"] = \"Not Interested\"\n",
        "      m = df['Party'].ne(1) # ne -> not equal to\n",
        "      df.loc[m, 'Category of Resignation'] = labels\n",
        "\n",
        "      #Reverting back the change\n",
        "      df[\"Congress\"] = df[\"Congress\"].astype(\"str\") + \"th\"\n",
        "      df[\"Party\"] = df[\"Party\"].map({1:\"R\",2:\"D\"})\n",
        "    \n",
        "    def final_df_generator(self):\n",
        "      global df\n",
        "      \n",
        "      keep_cols = [\"Member\",\"Party\",\"District\",\"Congress\",\"Resignation Date\", \\\n",
        "                   \"Reason\",\"Source\",\"Category\",\"FirstLast_diff\", \\\n",
        "                   \"Category of Resignation\",\"Resignation_diff_city\"]\n",
        "      \n",
        "      df_subset = df[keep_cols]\n",
        "      save_df_to_csv(df_subset,\"output.csv\")"
      ],
      "execution_count": null,
      "outputs": []
    },
    {
      "cell_type": "code",
      "metadata": {
        "id": "bSwGcEWxBZpc"
      },
      "source": [
        "class FeatureEngineering:\n",
        "    def __init__(self):\n",
        "        pass\n",
        "    \n",
        "    def feature_modification(self):\n",
        "        global df\n",
        "    \n",
        "        df[\"Congress\"] = df[\"Congress\"].map(lambda x: int(str(x)[:-2]))  #Remove \"th\" and convert the remaining to int\n",
        "        \n",
        "        #Change the case of certain categorical columns for homogeneity\n",
        "        \n",
        "        for col in [\"Member\",\"Party\",\"Reason\",\"Source\",\"Category\"]:\n",
        "            df[col] = df[col].str.lower()\n",
        "\n",
        "        # Label Encode the Party Column\n",
        "        df[\"Party\"] = df[\"Party\"].map({\"r\":1,\"d\":2})\n",
        "\n",
        "        df[\"Category\"] = df[\"Category\"].astype(\"category\")\n",
        "        df[\"Category_num\"] = df[\"Category\"].cat.codes\n",
        "        \n",
        "\n",
        "    def feature_addition(self):\n",
        "        global df\n",
        "\n",
        "        df[\"State\"] = df[\"District\"].str.split(\"-\").str[0].astype(\"category\")\n",
        "\n",
        "        # Label Encode the state\n",
        "        df[\"State\"] = df[\"State\"].cat.codes\n",
        "\n",
        "        df[\"Resignation_Month\"]  = df[\"Resignation Date\"].dt.month\n",
        "        df[\"Resignation_Year\"] =  df[\"Resignation Date\"].dt.year  \n",
        "\n",
        "\n",
        "        \"\"\"\n",
        "        Task : \n",
        "        \n",
        "        Question 1 - A new column should be added in the dataset \n",
        "        that shows the resignation time difference from the previous \n",
        "        resignation in the same district.\n",
        "        \"\"\"\n",
        "\n",
        "        df[\"Resignation_diff_city\"] = df.sort_values(\"Resignation Date\").groupby(\"District\")[\"Resignation Date\"].diff()\n",
        "        \"\"\"\n",
        "        Task :\n",
        "\n",
        "        Question 3 - New column should be added that shows the time difference \n",
        "        of the resignation from the first resignation in that city. \n",
        "        \"\"\"\n",
        "\n",
        "        df[\"FirstLast_diff\"] = df[\"Resignation Date\"] - df.groupby(\"District\")[\"Resignation Date\"].transform('min')\n",
        "\n",
        "\n",
        "    def drop_columns(self,colname):\n",
        "      \"\"\"\n",
        "      Here, we will drop certain features which seems redundant/ not so important...\n",
        "      \"\"\"\n",
        "      global df\n",
        "      if colname in df.columns:\n",
        "        df.drop([colname],inplace = True, axis = 1)\n",
        "      else:\n",
        "        print(\"Column - {} does not exist in the dataframe\")"
      ],
      "execution_count": null,
      "outputs": []
    },
    {
      "cell_type": "code",
      "metadata": {
        "id": "HwtsoeW_JxY9"
      },
      "source": [
        "class NLP:\n",
        "  def __init__(self):\n",
        "    pass\n",
        "\n",
        "  def stemming_tokens(self,tokens,stemmer):\n",
        "    stemmed = [stemmer.stem(item) for item in tokens]\n",
        "    return(stemmed)\n",
        "\n",
        "  def tokenize(self,text):\n",
        "    tokens = nltk.word_tokenize(text)\n",
        "    tokens = [i for i in tokens if i not in string.punctuation]\n",
        "    stems = self.stemming_tokens(tokens, self.stemmer)\n",
        "    return(stems)\n",
        "  \n",
        "  def clean_and_transformation(self):\n",
        "    global df \n",
        "    \n",
        "    \"\"\"\n",
        "    First, We need to remove punctuations, covert to lowercase, remove stop words, and stem words. \n",
        "    All these steps can be directly performed by CountVectorizer.\n",
        "    We first create a stemmer, using the Porter Stemmer implementation.\n",
        "    \"\"\"\n",
        "    self.stemmer = PorterStemmer()\n",
        "    self.vectorizer = TfidfVectorizer(analyzer = 'word',\n",
        "                                 tokenizer = self.tokenize,\n",
        "                                 lowercase = True,\n",
        "                                 stop_words = 'english', max_features = 25)\n",
        "    features = self.vectorizer.fit_transform(df[\"Reason\"].tolist())\n",
        "    global feature_name \n",
        "    feature_name = self.vectorizer.get_feature_names()\n",
        "    nlp_df = pd.DataFrame(data = features.toarray(),columns = feature_name,index = df.index)\n",
        "    df = df.join(nlp_df)"
      ],
      "execution_count": null,
      "outputs": []
    },
    {
      "cell_type": "code",
      "metadata": {
        "id": "DnQ_LSH_OGTD"
      },
      "source": [
        "class KMeansAlgorithm:\n",
        "  # Since 4 category we want to classify into, [\"Got Promotion\",\"Joined Private Job\",\"Personal Reasons\",\"Others\"] \n",
        "  settings = { \"n_clusters\" : 4,\"init\" : \"k-means++\",\"max_iter\" : 300, \"n_init\" : 10, \"random_state\" :0}\n",
        "\n",
        "  def __init__(self):\n",
        "    pass\n",
        "  \n",
        "  def generate_model(self):\n",
        "    global df\n",
        "\n",
        "    cls = self.__class__\n",
        "    self.kmeans = KMeans(**cls.settings) # Initialized model, now get the data ready\n",
        "    numerics = ['int16', 'int32', 'int64', 'float16', 'float32', 'float64']\n",
        "\n",
        "    X = df.loc[df[\"Party\"] == 2].select_dtypes(include=numerics) #Removes every other datatype but those defined in \"numerics\" \n",
        "    X = X[X.columns[~X.isnull().any()]]  # Removes column with nulls\n",
        "    print(X.shape)\n",
        "    self.kmeans.fit(X)\n",
        "    return self.kmeans.labels_\n",
        "  "
      ],
      "execution_count": null,
      "outputs": []
    },
    {
      "cell_type": "code",
      "metadata": {
        "id": "OuqkqNHcBc0k"
      },
      "source": [
        "class EDA:\n",
        "    def __init__(self):\n",
        "        pass\n",
        "    \n",
        "    def frequency_plot(self,colname,top_occur = 5):\n",
        "        global df\n",
        "        df[colname].value_counts()[:top_occur].plot(kind = \"bar\",color = np.random.rand(len(range(top_occur)),3))\n",
        "    \n",
        "    def correlation_heatmap(self):\n",
        "      \"\"\"\n",
        "      Quick heatmap of the correlation dataframe to see the strenght of relationship between features\n",
        "      \"\"\"\n",
        "      global df\n",
        "      corr_df = df.corr()\n",
        "      if corr_df.empty:\n",
        "        print(\"Cannot show correlation, correlation dataframe is empty!!!\")\n",
        "      else:\n",
        "        sns.heatmap(corr_df)\n",
        "    \n",
        "    def resignation_date_hist_plot(self,df_date_column,years_interval):\n",
        "      \n",
        "      dates_as_numbers = date2num(df_date_column)\n",
        "      days_interval = years_interval * 365\n",
        "      num_bins = round((dates_as_numbers.max() - dates_as_numbers.min()) / days_interval)\n",
        "      plt.hist(df_date_column, bins=num_bins, ec = 'k')\n",
        "      plt.gcf().autofmt_xdate()\n",
        "      plt.xlabel('Year')\n",
        "      plt.ylabel('Count')\n",
        "      plt.show()"
      ],
      "execution_count": null,
      "outputs": []
    },
    {
      "cell_type": "markdown",
      "metadata": {
        "id": "4Mvlcv1PBiH5"
      },
      "source": [
        "## Utility methods\n"
      ]
    },
    {
      "cell_type": "markdown",
      "metadata": {
        "id": "UtrgXGvkBqW7"
      },
      "source": [
        "The section contains all the different method which will be used in the notebook as a utility"
      ]
    },
    {
      "cell_type": "code",
      "metadata": {
        "id": "ezyc-p2pBn4C"
      },
      "source": [
        "def df_shape(df):\n",
        "    \"\"\"\n",
        "    Returns the shape of the dataframe\n",
        "    \"\"\"\n",
        "    return df.shape\n",
        "\n",
        "def get_nulls_info(df):\n",
        "    \"\"\"\n",
        "    Gives the null count for each column\n",
        "    \"\"\"\n",
        "    return df.isnull().sum()\n",
        "\n",
        "\n",
        "def get_numerical_features(df):\n",
        "    \"\"\"\n",
        "    Returns numerical features for a dataframe\n",
        "    \"\"\"\n",
        "    return df.select_dtypes(include = np.number).columns.tolist()\n",
        "    \n",
        "def get_categorical_features(df):\n",
        "    \"\"\"\n",
        "    Returns the categorical feature for a dataframe\n",
        "    \"\"\"\n",
        "    return df.select_dtypes(exclude = np.number).columns.tolist()\n",
        "\n",
        "def get_correlation(df,corr_type = \"pearson\"):\n",
        "    \"\"\"\n",
        "    Get the correlation among the features\n",
        "    \"\"\"\n",
        "    return df.corr(method = corr_type)\n",
        "\n",
        "def distribution_of_features(df):\n",
        "    \"\"\"\n",
        "    Get the distribution of all the features in the dataframe\n",
        "    \"\"\"\n",
        "    column_name = df.columns\n",
        "    for col in column_name:\n",
        "        print(\"Feature - {}\\n{}\".format(col,df[col].value_counts()))\n",
        "\n",
        "def save_df_to_csv(df,filename):\n",
        "    \"\"\"\n",
        "    Saves the final dataframe in an output directory as a CSV file.\n",
        "    If no output directory exists, then it creates it..\n",
        "    \"\"\"\n",
        "    outdir = \"./output\"\n",
        "    if not os.path.exists(outdir):\n",
        "      os.mkdir(outdir)\n",
        "    fullname = os.path.join(outdir, filename)\n",
        "    df.to_csv(fullname)\n",
        "\n",
        "def seperator():\n",
        "    print('-'*30)\n",
        "\n",
        "def generate_quick_stats(df):\n",
        "    \n",
        "    print(\"Quick glimpse of the dataframe\")\n",
        "    print(df.head(10))\n",
        "    seperator()\n",
        "    print(\"Shape of the dataframe is - \\n{}\".format(df_shape(df)))\n",
        "    seperator()\n",
        "    print(\"Nulls in the dataframe are - \\n{}\".format(get_nulls_info(df)))\n",
        "    seperator()\n",
        "    print(\"Numerical features are - \\n{}\".format(get_numerical_features(df)))\n",
        "    seperator()\n",
        "    print(\"Categorical features are - \\n{}\".format(get_categorical_features(df)))\n",
        "    seperator()\n",
        "    print(\"The correlation among the features are -\\n{}\".format(get_correlation(df,\"pearson\")))\n",
        "    seperator()\n",
        "    print(\"The distribution of the featues\\n{}\".format(distribution_of_features(df)))"
      ],
      "execution_count": null,
      "outputs": []
    },
    {
      "cell_type": "markdown",
      "metadata": {
        "id": "8NGLyUqTBxfb"
      },
      "source": [
        "## Read the data files"
      ]
    },
    {
      "cell_type": "code",
      "metadata": {
        "id": "7ZQtADSeBvDC"
      },
      "source": [
        "df = pd.read_csv(\"./data/resignation_data.csv\")"
      ],
      "execution_count": null,
      "outputs": []
    },
    {
      "cell_type": "markdown",
      "metadata": {
        "id": "Ka3IREhcGFrx"
      },
      "source": [
        "## Information about the data - Quick Stats and Info"
      ]
    },
    {
      "cell_type": "code",
      "metadata": {
        "colab": {
          "base_uri": "https://localhost:8080/"
        },
        "id": "1c6D7HUSB6od",
        "outputId": "39ceb701-431d-4baf-ede1-8c6cbd2576d4"
      },
      "source": [
        " generate_quick_stats(df)"
      ],
      "execution_count": null,
      "outputs": [
        {
          "output_type": "stream",
          "text": [
            "Quick glimpse of the dataframe\n",
            "           Member Party  ...                    Source Category\n",
            "0      Pat Tiberi     R  ...            New York Times        D\n",
            "1      Al Franken     D  ...  Minneapolis Star Tribune        X\n",
            "2    Trent Franks     R  ...                       CNN        X\n",
            "3    John Conyers     D  ...           Washington Post        X\n",
            "4      Tim Murphy     R  ...                  POLITICO        A\n",
            "5  Jason Chaffetz     R  ...                  POLITICO        D\n",
            "6      Ryan Zinke     R  ...   Bozeman Daily Chronicle        C\n",
            "7   Mick Mulvaney     R  ...          Associated Press        C\n",
            "8       Tom Price     R  ...                GeorgiaPol        C\n",
            "9   Jeff Sessions     R  ...       Washington Examiner        C\n",
            "\n",
            "[10 rows x 8 columns]\n",
            "------------------------------\n",
            "Shape of the dataframe is - \n",
            "(615, 8)\n",
            "------------------------------\n",
            "Nulls in the dataframe are - \n",
            "Member              0\n",
            "Party               0\n",
            "District            0\n",
            "Congress            0\n",
            "Resignation Date    0\n",
            "Reason              0\n",
            "Source              0\n",
            "Category            0\n",
            "dtype: int64\n",
            "------------------------------\n",
            "Numerical features are - \n",
            "[]\n",
            "------------------------------\n",
            "Categorical features are - \n",
            "['Member', 'Party', 'District', 'Congress', 'Resignation Date', 'Reason', 'Source', 'Category']\n",
            "------------------------------\n",
            "The correlation among the features are -\n",
            "Empty DataFrame\n",
            "Columns: []\n",
            "Index: []\n",
            "------------------------------\n",
            "Feature - Member\n",
            "Norris Cotton      3\n",
            "Robert Secrest     3\n",
            "Max Baucus         2\n",
            "Theodore Burton    2\n",
            "John Miller        2\n",
            "                  ..\n",
            "Buddy Roemer       1\n",
            "Bob Poage          1\n",
            "John W. Davis      1\n",
            "Jeff Sessions      1\n",
            "Hugo Black         1\n",
            "Name: Member, Length: 598, dtype: int64\n",
            "Feature - Party\n",
            "D    357\n",
            "R    258\n",
            "Name: Party, dtype: int64\n",
            "Feature - District\n",
            "CA-SEN    7\n",
            "AL-SEN    5\n",
            "NJ-SEN    5\n",
            "OH-SEN    5\n",
            "NY-14     5\n",
            "         ..\n",
            "MO-08     1\n",
            "VA-10     1\n",
            "OK-06     1\n",
            "CO-SEN    1\n",
            "MA-03     1\n",
            "Name: District, Length: 369, dtype: int64\n",
            "Feature - Congress\n",
            "93rd     42\n",
            "95th     27\n",
            "79th     19\n",
            "63rd     19\n",
            "77th     19\n",
            "89th     17\n",
            "65th     16\n",
            "75th     15\n",
            "112th    15\n",
            "78th     15\n",
            "66th     15\n",
            "111th    14\n",
            "67th     13\n",
            "62nd     13\n",
            "94th     12\n",
            "115th    12\n",
            "59th     12\n",
            "83rd     12\n",
            "113th    11\n",
            "101st    11\n",
            "96th     11\n",
            "58th     11\n",
            "72nd     11\n",
            "80th     11\n",
            "82nd     11\n",
            "57th     10\n",
            "110th    10\n",
            "104th    10\n",
            "91st     10\n",
            "87th      9\n",
            "74th      9\n",
            "81st      9\n",
            "71st      9\n",
            "102nd     9\n",
            "60th      8\n",
            "97th      8\n",
            "109th     8\n",
            "70th      8\n",
            "103rd     8\n",
            "76th      8\n",
            "88th      8\n",
            "114th     7\n",
            "61st      7\n",
            "73rd      7\n",
            "107th     7\n",
            "92nd      7\n",
            "85th      6\n",
            "108th     6\n",
            "68th      6\n",
            "90th      5\n",
            "105th     5\n",
            "98th      4\n",
            "84th      4\n",
            "99th      4\n",
            "86th      4\n",
            "69th      3\n",
            "100th     3\n",
            "64th      3\n",
            "106th     2\n",
            "Name: Congress, dtype: int64\n",
            "Feature - Resignation Date\n",
            "12/31/1974    33\n",
            "12/30/1966    11\n",
            "12/31/1978    10\n",
            "12/31/1954     3\n",
            "3/3/1933       3\n",
            "              ..\n",
            "12/16/1918     1\n",
            "8/16/1953      1\n",
            "1/18/1938      1\n",
            "12/13/1944     1\n",
            "6/11/2004      1\n",
            "Name: Resignation Date, Length: 524, dtype: int64\n",
            "Feature - Reason\n",
            "Appointed federal judge                                        60\n",
            "Elected U.S. senator                                           35\n",
            "Appointed U.S. senator                                         28\n",
            "Retired; probably resigned early to receive higher pension?    27\n",
            "His election was successfully contested & overturned           16\n",
            "                                                               ..\n",
            "Took a job with American Petroleum Institute                    1\n",
            "Took a job with Life Insurance Association of America           1\n",
            "Appointed to Tennessee Valley Authority                         1\n",
            "Appointed director of Port of New York City                     1\n",
            "Cocaine possession                                              1\n",
            "Name: Reason, Length: 267, dtype: int64\n",
            "Feature - Source\n",
            "U.S. Congress                    335\n",
            "New York Times                    47\n",
            "Washington Post                   25\n",
            "U.S. House of Representatives     22\n",
            "UPI                               11\n",
            "                                ... \n",
            "University of Iowa                 1\n",
            "Nexis search                       1\n",
            "Reuters                            1\n",
            "American Jewish Archives           1\n",
            "PoliticsPA                         1\n",
            "Name: Source, Length: 116, dtype: int64\n",
            "Feature - Category\n",
            "C        357\n",
            "G         87\n",
            "D         50\n",
            "B         30\n",
            "I         20\n",
            "E         15\n",
            "H         13\n",
            "F         10\n",
            "X          8\n",
            "A          8\n",
            "B & E      3\n",
            "D & E      2\n",
            "D & F      2\n",
            "F & G      2\n",
            "E & F      2\n",
            "E & G      1\n",
            "B & C      1\n",
            "D & G      1\n",
            "B & G      1\n",
            "B & D      1\n",
            "C & F      1\n",
            "Name: Category, dtype: int64\n",
            "The distribution of the featues\n",
            "None\n"
          ],
          "name": "stdout"
        }
      ]
    },
    {
      "cell_type": "markdown",
      "metadata": {
        "id": "6x9WBAf3GUrS"
      },
      "source": [
        "The data above shows there are no nulls in the dataset and all the columns are Categorical. There is no continuous or discrete numerical data. We don't have to do any imputation of null values in this case.\n",
        "\n",
        "In the below analysis, we can quickly see how many features are numerical, how many of them are categorical and how many of them are time-series.\n",
        "\n",
        "Also we can see correlation among the features with the below statistics."
      ]
    },
    {
      "cell_type": "markdown",
      "metadata": {
        "id": "HaXi2V7KGbu7"
      },
      "source": [
        "**Analysis** - \n",
        "\n",
        "1. Quick distribution shows many Resignations happened between the year [1965 to 1980].\n",
        "2. Most Resignations happened between [75th and 95th] Congress.\n",
        "3. Democratic party members gave resignation - 357 times and Repulican party member - 258 times. \n",
        "   38% More in Democrats from the Republicans.\n",
        "4. Atleast 81% of the total resignations happened because the congressmen took other office,private sector,\n",
        "or resigned early\n",
        "\n",
        "\n",
        "Good for the first level analysis\n",
        "\n",
        "---\n",
        "\n",
        "\n",
        "\n",
        "---\n",
        "\n",
        "\n",
        "\n",
        "---\n",
        "\n"
      ]
    },
    {
      "cell_type": "markdown",
      "metadata": {
        "id": "EzciKnlt-BGb"
      },
      "source": [
        "We will create objects to access different classes"
      ]
    },
    {
      "cell_type": "code",
      "metadata": {
        "id": "4xVZrcnDGcsi"
      },
      "source": [
        "# Create the objects of all the Utility Class we are going to use.\n",
        "prep_obj = PreProcessing()\n",
        "feat_obj = FeatureEngineering()\n",
        "eda_obj = EDA()\n",
        "nlp_obj = NLP()\n",
        "kmean_obj = KMeansAlgorithm()\n",
        "postprocess_obj = PostProcesing()"
      ],
      "execution_count": null,
      "outputs": []
    },
    {
      "cell_type": "markdown",
      "metadata": {
        "id": "Bn4OcIzWGl_e"
      },
      "source": [
        "## Preprocessing the data"
      ]
    },
    {
      "cell_type": "markdown",
      "metadata": {
        "id": "qC3LZ0EhGsEu"
      },
      "source": [
        "Now that we had some first level analysis about the data, let's preprocess the data, like filling the NULL values, changing datatype of the columns according to the need."
      ]
    },
    {
      "cell_type": "code",
      "metadata": {
        "id": "nXC0lbsBGv0a"
      },
      "source": [
        "prep_obj.fill_nulls()   # Fill the nulls in the dataframe\n",
        "prep_obj.change_datatypes()  # Change the datatype of the columns required."
      ],
      "execution_count": null,
      "outputs": []
    },
    {
      "cell_type": "markdown",
      "metadata": {
        "id": "0PVHpBWd0rNH"
      },
      "source": [
        "We will change certain features from their original format to some other format.\n",
        "        \n",
        "**Congress** --> String to Int (example 115th to 115), \"th\" is redundant here\n",
        "\n",
        "**Member,Party,Reason, Source,Category** --> Lowercase"
      ]
    },
    {
      "cell_type": "code",
      "metadata": {
        "id": "K7wJDpOEGzhQ"
      },
      "source": [
        "feat_obj.feature_modification()"
      ],
      "execution_count": null,
      "outputs": []
    },
    {
      "cell_type": "markdown",
      "metadata": {
        "id": "a1xCgwoyG8Tz"
      },
      "source": [
        "Till now, we did some preprocessing on the date-time and Categorical column. \n",
        "There's still some preprocessing left which we will do later..."
      ]
    },
    {
      "cell_type": "markdown",
      "metadata": {
        "id": "hU8H3uH3Md3R"
      },
      "source": [
        "## Exploratory data analysis(EDA)"
      ]
    },
    {
      "cell_type": "markdown",
      "metadata": {
        "id": "YYxry_tH1Exu"
      },
      "source": [
        "Some distribution plots to see relation of resignation to the party,category, year, congress or district"
      ]
    },
    {
      "cell_type": "code",
      "metadata": {
        "colab": {
          "base_uri": "https://localhost:8080/",
          "height": 404
        },
        "id": "312WPTs8G10v",
        "outputId": "4129eb2f-386c-4fd4-b409-6ad582ebb427"
      },
      "source": [
        "eda_obj.frequency_plot(\"Source\",6)"
      ],
      "execution_count": null,
      "outputs": [
        {
          "output_type": "display_data",
          "data": {
            "image/png": "[encoded data removed]",
            "text/plain": [
              "<Figure size 432x288 with 1 Axes>"
            ]
          },
          "metadata": {
            "tags": [],
            "needs_background": "light"
          }
        }
      ]
    },
    {
      "cell_type": "code",
      "metadata": {
        "colab": {
          "base_uri": "https://localhost:8080/",
          "height": 262
        },
        "id": "T7PO0SGE1P_K",
        "outputId": "12fdea95-2e23-4542-e1cb-5a5c911f327a"
      },
      "source": [
        "# Democratic party have had more Resignations between the two..\n",
        "eda_obj.frequency_plot(\"Party\",5)"
      ],
      "execution_count": null,
      "outputs": [
        {
          "output_type": "display_data",
          "data": {
            "image/png": "[encoded data removed]",
            "text/plain": [
              "<Figure size 432x288 with 1 Axes>"
            ]
          },
          "metadata": {
            "tags": [],
            "needs_background": "light"
          }
        }
      ]
    },
    {
      "cell_type": "code",
      "metadata": {
        "id": "FHd10Btinf2m",
        "colab": {
          "base_uri": "https://localhost:8080/",
          "height": 269
        },
        "outputId": "ae5dd6ff-8389-4643-a166-9117bda82a1b"
      },
      "source": [
        "\"\"\"\n",
        "      Here, we will try to find the number of resignations in X years interval, \n",
        "      and see if there is any relation we can find. \n",
        "\"\"\"\n",
        "eda_obj.resignation_date_hist_plot(df[\"Resignation Date\"],years_interval = 10)"
      ],
      "execution_count": null,
      "outputs": [
        {
          "output_type": "display_data",
          "data": {
            "image/png": "[encoded data removed]",
            "text/plain": [
              "<Figure size 432x288 with 1 Axes>"
            ]
          },
          "metadata": {
            "tags": [],
            "needs_background": "light"
          }
        }
      ]
    },
    {
      "cell_type": "markdown",
      "metadata": {
        "id": "2Rc4ERpU16MG"
      },
      "source": [
        "As can be seen above that during year 1970-1980, there were many resignations"
      ]
    },
    {
      "cell_type": "markdown",
      "metadata": {
        "id": "5vtiDOh79_Cf"
      },
      "source": [
        "## Feature Engineering"
      ]
    },
    {
      "cell_type": "code",
      "metadata": {
        "id": "kvQmYiDys00S"
      },
      "source": [
        "\"\"\"\n",
        "        This function will do actual feature engineering,\n",
        "        and will try extracting some more feature from existing features\n",
        "\n",
        "        1. State from District-> \n",
        "            District has format like OH-12, upon searching, I found out that OH is Ohio,\n",
        "            similarly KY-01, is Kentucky's first congressional district... So we can get the state name from\n",
        "            the the Districts\n",
        "        \n",
        "        2. Year, Month from \"Resignation Date\"->\n",
        "            We will try to fetch the Year and Month and later see if that has some significance?\n",
        "            Day of the month does not make much sense if will be of much use.\n",
        "\"\"\"\n",
        "feat_obj.feature_addition()"
      ],
      "execution_count": null,
      "outputs": []
    },
    {
      "cell_type": "markdown",
      "metadata": {
        "id": "WOuKQ1g8-UAR"
      },
      "source": [
        "## Natural Language Processing - Extract features from text"
      ]
    },
    {
      "cell_type": "code",
      "metadata": {
        "id": "7tMKHGshW9dt"
      },
      "source": [
        "\"\"\"\n",
        "    In this method, we will perform almost all the type of clearning of the \n",
        "     only text column in our dataset - \"Reason\" column, and will convert some numeric column to number for processing\n",
        "\"\"\"\n",
        "nlp_obj.clean_and_transformation()"
      ],
      "execution_count": null,
      "outputs": []
    },
    {
      "cell_type": "markdown",
      "metadata": {
        "id": "nPc4ebAv-X63"
      },
      "source": [
        "## Clustering - KMeans"
      ]
    },
    {
      "cell_type": "code",
      "metadata": {
        "colab": {
          "base_uri": "https://localhost:8080/"
        },
        "id": "CKm1fMzDokcu",
        "outputId": "dc230d8c-552a-4b4d-d6fa-80da23cad918"
      },
      "source": [
        "# Will generate the KMeans model, feed the features into it and return backs the label for each record.\n",
        "# We will use the labels(clusters) later to describe the \"Category of Resignation\"...\n",
        "labels = kmean_obj.generate_model()"
      ],
      "execution_count": null,
      "outputs": [
        {
          "output_type": "stream",
          "text": [
            "(357, 29)\n"
          ],
          "name": "stdout"
        }
      ]
    },
    {
      "cell_type": "markdown",
      "metadata": {
        "id": "chKtj-ce-iix"
      },
      "source": [
        "## PostProcessing"
      ]
    },
    {
      "cell_type": "code",
      "metadata": {
        "id": "WtLw3lQ0ozSb"
      },
      "source": [
        "\"\"\"\n",
        "   Create the \"Category of Resignation\" feature from the labels and if there \"R\", we impute \"Not Interested\"\n",
        "\"\"\"\n",
        "postprocess_obj.generate_final_dataframe(labels)"
      ],
      "execution_count": null,
      "outputs": []
    },
    {
      "cell_type": "code",
      "metadata": {
        "colab": {
          "base_uri": "https://localhost:8080/"
        },
        "id": "faJhePrZqefs",
        "outputId": "b796661a-13b9-456c-cc4e-0cf5218efe9d"
      },
      "source": [
        "\"\"\"\n",
        "This method is important, it lets you know for each cluster what \"KeyWords\" were most powerful \n",
        "Based on this, we will define the cluster name -> [\"Got Promotion\",\"Other\",\"Personal Reasons\".. etc]\n",
        "\"\"\"\n",
        "postprocess_obj.define_strength()"
      ],
      "execution_count": null,
      "outputs": [
        {
          "output_type": "stream",
          "text": [
            "                              top1     top2  ...     top9      top10\n",
            "Category of Resignation                      ...                    \n",
            "0                          appoint     judg  ...     took        job\n",
            "1                        administr  appoint  ...       hi        new\n",
            "2                           resign    earli  ...  probabl  successor\n",
            "3                            elect  appoint  ...    senat        new\n",
            "Not Interested             appoint    elect  ...       hi      earli\n",
            "\n",
            "[5 rows x 10 columns]\n"
          ],
          "name": "stdout"
        }
      ]
    },
    {
      "cell_type": "markdown",
      "metadata": {
        "id": "FDW0Lt1P-l9V"
      },
      "source": [
        "## Final adjustments"
      ]
    },
    {
      "cell_type": "code",
      "metadata": {
        "id": "jB9HEMwvq8xh"
      },
      "source": [
        "# Convert the previous cluster labels(numeric) to most suitable cateory, based on the strength.\n",
        "cluster_mapping = {0 : \"Got Promotion\",2 : \"Personal Reasons\",1 : \"Joined Private Job\",3 : \"Others\",\"Not Interested\":\"Not Interested\"}"
      ],
      "execution_count": null,
      "outputs": []
    },
    {
      "cell_type": "code",
      "metadata": {
        "id": "f86bT1v4t1Oe"
      },
      "source": [
        "# Change the mapping in the column\n",
        "df[\"Category of Resignation\"]  = df[\"Category of Resignation\"].map(cluster_mapping)"
      ],
      "execution_count": null,
      "outputs": []
    },
    {
      "cell_type": "markdown",
      "metadata": {
        "id": "yEAnomZm-rWs"
      },
      "source": [
        "## Save the output"
      ]
    },
    {
      "cell_type": "code",
      "metadata": {
        "id": "J5qopntRuLJF",
        "colab": {
          "base_uri": "https://localhost:8080/",
          "height": 181
        },
        "outputId": "131659a1-5e6f-431f-8ce3-a61903f3604f"
      },
      "source": [
        "# Generates and save the final dataframe to  ./output/output.csv path\n",
        "postprocess_obj.final_df_generator()"
      ],
      "execution_count": null,
      "outputs": [
        {
          "output_type": "error",
          "ename": "NameError",
          "evalue": "ignored",
          "traceback": [
            "\u001b[0;31m---------------------------------------------------------------------------\u001b[0m",
            "\u001b[0;31mNameError\u001b[0m                                 Traceback (most recent call last)",
            "\u001b[0;32m<ipython-input-1-c10c4c309ed7>\u001b[0m in \u001b[0;36m<module>\u001b[0;34m()\u001b[0m\n\u001b[1;32m      1\u001b[0m \u001b[0;31m# Generates and save the final dataframe to  ./output/output.csv path\u001b[0m\u001b[0;34m\u001b[0m\u001b[0;34m\u001b[0m\u001b[0;34m\u001b[0m\u001b[0m\n\u001b[0;32m----> 2\u001b[0;31m \u001b[0mpostprocess_obj\u001b[0m\u001b[0;34m.\u001b[0m\u001b[0mfinal_df_generator\u001b[0m\u001b[0;34m(\u001b[0m\u001b[0;34m)\u001b[0m\u001b[0;34m\u001b[0m\u001b[0;34m\u001b[0m\u001b[0m\n\u001b[0m",
            "\u001b[0;31mNameError\u001b[0m: name 'postprocess_obj' is not defined"
          ]
        }
      ]
    }
  ]
}
